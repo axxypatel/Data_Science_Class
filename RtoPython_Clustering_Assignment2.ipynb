{
 "cells": [
  {
   "cell_type": "code",
   "execution_count": 84,
   "metadata": {},
   "outputs": [],
   "source": [
    "import pandas as pd\n",
    "import numpy as np\n",
    "from ggplot import *\n",
    "from sklearn.cluster import KMeans\n",
    "import matplotlib.pyplot as plt\n",
    "from sklearn.metrics import confusion_matrix"
   ]
  },
  {
   "cell_type": "code",
   "execution_count": 24,
   "metadata": {},
   "outputs": [],
   "source": [
    "data_url = \"../galton-data.csv\"\n",
    "#print(data_url)\n",
    "galton_data = pd.read_csv(data_url,encoding = \"ISO-8859-1\")\n",
    "#galton_data.head()\n",
    "data_url = '../AnnualSpending.csv'\n",
    "spend_data = pd.read_csv(data_url)\n",
    "#spend_data.head()\n",
    "data_url = '../data.worldbank.org.csv'\n",
    "world_bank_data = pd.read_csv(data_url,encoding = \"ISO-8859-1\")\n",
    "world_bank_data = world_bank_data.replace({\"..\":np.nan,\"?\":np.nan})\n",
    "#world_bank_data.head()\n",
    "#galton_data.head()"
   ]
  },
  {
   "cell_type": "code",
   "execution_count": 25,
   "metadata": {},
   "outputs": [
    {
     "data": {
      "text/html": [
       "<div>\n",
       "<style scoped>\n",
       "    .dataframe tbody tr th:only-of-type {\n",
       "        vertical-align: middle;\n",
       "    }\n",
       "\n",
       "    .dataframe tbody tr th {\n",
       "        vertical-align: top;\n",
       "    }\n",
       "\n",
       "    .dataframe thead th {\n",
       "        text-align: right;\n",
       "    }\n",
       "</style>\n",
       "<table border=\"1\" class=\"dataframe\">\n",
       "  <thead>\n",
       "    <tr style=\"text-align: right;\">\n",
       "      <th></th>\n",
       "      <th>height</th>\n",
       "      <th>gender</th>\n",
       "    </tr>\n",
       "  </thead>\n",
       "  <tbody>\n",
       "    <tr>\n",
       "      <th>0</th>\n",
       "      <td>73.2</td>\n",
       "      <td>M</td>\n",
       "    </tr>\n",
       "    <tr>\n",
       "      <th>1</th>\n",
       "      <td>69.2</td>\n",
       "      <td>F</td>\n",
       "    </tr>\n",
       "    <tr>\n",
       "      <th>2</th>\n",
       "      <td>69.0</td>\n",
       "      <td>F</td>\n",
       "    </tr>\n",
       "    <tr>\n",
       "      <th>3</th>\n",
       "      <td>69.0</td>\n",
       "      <td>F</td>\n",
       "    </tr>\n",
       "    <tr>\n",
       "      <th>4</th>\n",
       "      <td>73.5</td>\n",
       "      <td>M</td>\n",
       "    </tr>\n",
       "  </tbody>\n",
       "</table>\n",
       "</div>"
      ],
      "text/plain": [
       "<div>\n",
       "<style scoped>\n",
       "    .dataframe tbody tr th:only-of-type {\n",
       "        vertical-align: middle;\n",
       "    }\n",
       "\n",
       "    .dataframe tbody tr th {\n",
       "        vertical-align: top;\n",
       "    }\n",
       "\n",
       "    .dataframe thead th {\n",
       "        text-align: right;\n",
       "    }\n",
       "</style>\n",
       "<table border=\"1\" class=\"dataframe\">\n",
       "  <thead>\n",
       "    <tr style=\"text-align: right;\">\n",
       "      <th></th>\n",
       "      <th>height</th>\n",
       "      <th>gender</th>\n",
       "    </tr>\n",
       "  </thead>\n",
       "  <tbody>\n",
       "    <tr>\n",
       "      <th>0</th>\n",
       "      <td>73.2</td>\n",
       "      <td>M</td>\n",
       "    </tr>\n",
       "    <tr>\n",
       "      <th>1</th>\n",
       "      <td>69.2</td>\n",
       "      <td>F</td>\n",
       "    </tr>\n",
       "    <tr>\n",
       "      <th>2</th>\n",
       "      <td>69.0</td>\n",
       "      <td>F</td>\n",
       "    </tr>\n",
       "    <tr>\n",
       "      <th>3</th>\n",
       "      <td>69.0</td>\n",
       "      <td>F</td>\n",
       "    </tr>\n",
       "    <tr>\n",
       "      <th>4</th>\n",
       "      <td>73.5</td>\n",
       "      <td>M</td>\n",
       "    </tr>\n",
       "  </tbody>\n",
       "</table>\n",
       "</div>"
      ]
     },
     "execution_count": 25,
     "metadata": {},
     "output_type": "execute_result"
    }
   ],
   "source": [
    "galton_height_gender_cols = galton_data[[\"height\",\"gender\"]]\n",
    "galton_height_gender_cols.head()"
   ]
  },
  {
   "cell_type": "code",
   "execution_count": 26,
   "metadata": {},
   "outputs": [
    {
     "name": "stdout",
     "output_type": "stream",
     "text": [
      "Total number of rows which have NAN value:  172\n45\n"
     ]
    }
   ],
   "source": [
    "world_bank_data.head()\n",
    "print(\"Total number of rows which have NAN value: \",world_bank_data.shape[0]-world_bank_data.dropna().shape[0])\n",
    "world_bank_data = world_bank_data[[\"Country\",\"Life.expectancy\",\"Infant.mortality\",\"Per.capita.income\",\"Literacy\"]]\n",
    "world_bank_data = world_bank_data.dropna()\n",
    "world_bank_country = world_bank_data[[\"Country\"]]\n",
    "world_bank_data = world_bank_data.drop('Country',axis=1)\n",
    "world_bank_data.head()\n",
    "print(world_bank_data.shape[0])"
   ]
  },
  {
   "cell_type": "code",
   "execution_count": 74,
   "metadata": {},
   "outputs": [
    {
     "name": "stdout",
     "output_type": "stream",
     "text": [
      "Cluster Means:  \n [[69.78419865]\n [63.81692308]] \n Clustering Vector:  \n (898,)\n"
     ]
    }
   ],
   "source": [
    "ggplot(galton_height_gender_cols,aes(x='height', color='gender')) + geom_density(alpha = 1) + xlab(\"Height\")\n",
    "k = 2\n",
    "galton_2k_cluster = KMeans(n_clusters=k,random_state=0).fit(galton_height_gender_cols.loc[:,[\"height\"]])\n",
    "cluster_label = galton_2k_cluster.predict(galton_height_gender_cols.loc[:,[\"height\"]])\n",
    "label = galton_2k_cluster.labels_\n",
    "centers = galton_2k_cluster.cluster_centers_\n",
    "print(\"Cluster Means: \", \"\\n\", centers, \"\\n\", \"Clustering Vector: \",\"\\n\", label)"
   ]
  },
  {
   "cell_type": "code",
   "execution_count": 103,
   "metadata": {
    "collapsed": true
   },
   "outputs": [
    {
     "name": "stderr",
     "output_type": "stream",
     "text": [
      "C:\\Users\\Akshay\\PycharmProjects\\first_project\\venv\\lib\\site-packages\\ipykernel_launcher.py:4: SettingWithCopyWarning: \nA value is trying to be set on a copy of a slice from a DataFrame.\nTry using .loc[row_indexer,col_indexer] = value instead\n\nSee the caveats in the documentation: http://pandas.pydata.org/pandas-docs/stable/indexing.html#indexing-view-versus-copy\n  after removing the cwd from sys.path.\n"
     ]
    },
    {
     "data": {
      "image/png": "[encoded data removed]",
      "text/plain": [
       "<Figure size 432x288 with 1 Axes>"
      ]
     },
     "metadata": {},
     "output_type": "display_data"
    }
   ],
   "source": [
    "#cm = confusion_matrix(galton_height_gender_cols[\"gender\"],label)\n",
    "#cm = pd.Series(label)\n",
    "#cm = cm.value_counts()\n",
    "galton_height_gender_cols['label']=label\n",
    "cm_temp = pd.crosstab(galton_height_gender_cols['gender'],galton_height_gender_cols['label'])\n",
    "plt.hist(x=galton_height_gender_cols['gender'])#,galton_height_gender_cols['label'])\n",
    "#print(cm_temp)\n",
    "plt.show()\n",
    "#print(galton_height_gender_cols[\"gender\"].shape,label.shape)"
   ]
  },
  {
   "cell_type": "code",
   "execution_count": 127,
   "metadata": {
    "collapsed": true
   },
   "outputs": [
    {
     "name": "stdout",
     "output_type": "stream",
     "text": [
      "[[7.09230754e+01 2.50813953e+01 8.16167119e+03 8.78985214e+01]\n [8.06215732e+01 4.45000000e+00 6.37779709e+04 9.70090000e+01]]\n[[8.06215732e+01 4.45000000e+00 6.37779709e+04 9.70090000e+01]\n [6.91127202e+01 2.98205882e+01 4.61503980e+03 8.52681391e+01]\n [7.77621951e+01 7.17777778e+00 2.15600564e+04 9.78355211e+01]]\n"
     ]
    }
   ],
   "source": [
    "world_bank_data.head()\n",
    "k = 2\n",
    "world_bank_2k_cluster = KMeans(n_clusters=k).fit(world_bank_data)\n",
    "k2_mean = world_bank_2k_cluster.cluster_centers_\n",
    "k2_label = world_bank_2k_cluster.labels_\n",
    "k = 3\n",
    "world_bank_3k_cluster = KMeans(n_clusters=k).fit(world_bank_data)\n",
    "k3_mean = world_bank_3k_cluster.cluster_centers_\n",
    "k3_label = world_bank_3k_cluster.labels_\n",
    "print(np.asarray(k2_mean,dtype=np.float))\n",
    "print(np.asarray(k3_mean,dtype=np.float))"
   ]
  },
  {
   "cell_type": "code",
   "execution_count": null,
   "metadata": {},
   "outputs": [],
   "source": []
  }
 ],
 "metadata": {
  "kernelspec": {
   "display_name": "Python 3",
   "language": "python",
   "name": "python3"
  },
  "language_info": {
   "codemirror_mode": {
    "name": "ipython",
    "version": 3
   },
   "file_extension": ".py",
   "mimetype": "text/x-python",
   "name": "python",
   "nbconvert_exporter": "python",
   "pygments_lexer": "ipython3",
   "version": "3.6.1"
  }
 },
 "nbformat": 4,
 "nbformat_minor": 1
}
